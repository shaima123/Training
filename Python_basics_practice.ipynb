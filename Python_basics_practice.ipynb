{
  "nbformat": 4,
  "nbformat_minor": 0,
  "metadata": {
    "colab": {
      "name": "Python basics practice.ipynb",
      "provenance": [],
      "collapsed_sections": []
    },
    "kernelspec": {
      "name": "python3",
      "display_name": "Python 3"
    },
    "language_info": {
      "name": "python"
    }
  },
  "cells": [
    {
      "cell_type": "code",
      "metadata": {
        "colab": {
          "base_uri": "https://localhost:8080/"
        },
        "id": "b0owdZm94w0T",
        "outputId": "0012fcea-e52f-4be1-8b56-e68d85212128"
      },
      "source": [
        "print(\" hello world\");"
      ],
      "execution_count": null,
      "outputs": [
        {
          "output_type": "stream",
          "name": "stdout",
          "text": [
            " hello world\n"
          ]
        }
      ]
    },
    {
      "cell_type": "code",
      "metadata": {
        "colab": {
          "base_uri": "https://localhost:8080/"
        },
        "id": "gh395SFW40Zy",
        "outputId": "12e42726-fede-4c5a-a955-8043cce4441a"
      },
      "source": [
        "7/3"
      ],
      "execution_count": null,
      "outputs": [
        {
          "output_type": "execute_result",
          "data": {
            "text/plain": [
              "2.3333333333333335"
            ]
          },
          "metadata": {},
          "execution_count": 2
        }
      ]
    },
    {
      "cell_type": "code",
      "metadata": {
        "id": "78ht5tso46DG"
      },
      "source": [
        "from math import *"
      ],
      "execution_count": null,
      "outputs": []
    },
    {
      "cell_type": "code",
      "metadata": {
        "colab": {
          "base_uri": "https://localhost:8080/"
        },
        "id": "HC1INf4B5BDc",
        "outputId": "13ccf6ed-963c-46c6-de01-6a12dbf27f23"
      },
      "source": [
        "log(2)"
      ],
      "execution_count": null,
      "outputs": [
        {
          "output_type": "execute_result",
          "data": {
            "text/plain": [
              "0.6931471805599453"
            ]
          },
          "metadata": {},
          "execution_count": 7
        }
      ]
    },
    {
      "cell_type": "code",
      "metadata": {
        "colab": {
          "base_uri": "https://localhost:8080/"
        },
        "id": "VhAkWIzO5H_c",
        "outputId": "e807c64a-d9c4-4581-8986-606b9100ccdf"
      },
      "source": [
        "Name=\"Priya\"\n",
        "b=20\n",
        "c=90.03\n",
        "d=\"A\"\n",
        "\n",
        "print(Name)\n",
        "print(b)\n",
        "print(c)\n",
        "print(d)"
      ],
      "execution_count": null,
      "outputs": [
        {
          "output_type": "stream",
          "name": "stdout",
          "text": [
            "Priya\n",
            "20\n",
            "90.03\n",
            "A\n"
          ]
        }
      ]
    },
    {
      "cell_type": "code",
      "metadata": {
        "colab": {
          "base_uri": "https://localhost:8080/"
        },
        "id": "Fdw3XNsq6_E6",
        "outputId": "25d473b7-57ae-485b-ec88-5ee762bd6560"
      },
      "source": [
        "type(Name)"
      ],
      "execution_count": null,
      "outputs": [
        {
          "output_type": "execute_result",
          "data": {
            "text/plain": [
              "str"
            ]
          },
          "metadata": {},
          "execution_count": 9
        }
      ]
    },
    {
      "cell_type": "code",
      "metadata": {
        "colab": {
          "base_uri": "https://localhost:8080/",
          "height": 35
        },
        "id": "dwr5HfMH7GNS",
        "outputId": "d2ca33dc-254c-4226-a7d5-ee9d5a0d72b7"
      },
      "source": [
        "a=\"Name is ABC\"\n",
        "b=a\n",
        "b"
      ],
      "execution_count": null,
      "outputs": [
        {
          "output_type": "execute_result",
          "data": {
            "application/vnd.google.colaboratory.intrinsic+json": {
              "type": "string"
            },
            "text/plain": [
              "'Name is ABC'"
            ]
          },
          "metadata": {},
          "execution_count": 10
        }
      ]
    },
    {
      "cell_type": "code",
      "metadata": {
        "colab": {
          "base_uri": "https://localhost:8080/"
        },
        "id": "7ZLUHdyC7LDt",
        "outputId": "0015c727-c814-4e8d-f01f-e2bd483e97e2"
      },
      "source": [
        "a=20\n",
        "if (a==20):\n",
        "    print(\"a is 20\")\n",
        "else:\n",
        "    print(\"a is not 20\")"
      ],
      "execution_count": null,
      "outputs": [
        {
          "output_type": "stream",
          "name": "stdout",
          "text": [
            "a is 20\n"
          ]
        }
      ]
    },
    {
      "cell_type": "code",
      "metadata": {
        "id": "pFnJF_M_7Qxy",
        "colab": {
          "base_uri": "https://localhost:8080/"
        },
        "outputId": "5928fac4-26ea-471e-ee05-c03e851d2386"
      },
      "source": [
        "n=50\n",
        "if (n==20):\n",
        "    print('number is 20')\n",
        "elif (n==30):\n",
        "    print('number is 30')\n",
        "elif(n==500):\n",
        "    print('number is 500')\n",
        "else:\n",
        "    print('number is not 20,30,500');"
      ],
      "execution_count": null,
      "outputs": [
        {
          "output_type": "stream",
          "name": "stdout",
          "text": [
            "number is not 20,30,500\n"
          ]
        }
      ]
    },
    {
      "cell_type": "code",
      "metadata": {
        "colab": {
          "base_uri": "https://localhost:8080/"
        },
        "id": "IwEO6BSu7xY3",
        "outputId": "212a8f7f-6ead-4490-9951-6bc1abe964c2"
      },
      "source": [
        "3**2"
      ],
      "execution_count": null,
      "outputs": [
        {
          "output_type": "execute_result",
          "data": {
            "text/plain": [
              "9"
            ]
          },
          "metadata": {},
          "execution_count": 13
        }
      ]
    },
    {
      "cell_type": "code",
      "metadata": {
        "colab": {
          "base_uri": "https://localhost:8080/",
          "height": 35
        },
        "id": "kY7UTeWr74EU",
        "outputId": "8d5cf085-3d11-47c2-c8ae-6844dced0e99"
      },
      "source": [
        "a=\"hello\"\n",
        "b=\"User\"\n",
        "a+b"
      ],
      "execution_count": null,
      "outputs": [
        {
          "output_type": "execute_result",
          "data": {
            "application/vnd.google.colaboratory.intrinsic+json": {
              "type": "string"
            },
            "text/plain": [
              "'helloUser'"
            ]
          },
          "metadata": {},
          "execution_count": 14
        }
      ]
    },
    {
      "cell_type": "code",
      "metadata": {
        "colab": {
          "base_uri": "https://localhost:8080/",
          "height": 35
        },
        "id": "Q4rsaag774BS",
        "outputId": "e0fe5c61-08eb-4c54-d524-50ee4e0b2aed"
      },
      "source": [
        "b=\" User\"\n",
        "a+b"
      ],
      "execution_count": null,
      "outputs": [
        {
          "output_type": "execute_result",
          "data": {
            "application/vnd.google.colaboratory.intrinsic+json": {
              "type": "string"
            },
            "text/plain": [
              "'hello User'"
            ]
          },
          "metadata": {},
          "execution_count": 15
        }
      ]
    },
    {
      "cell_type": "code",
      "metadata": {
        "id": "O1lbAaRy7390"
      },
      "source": [
        "list1=[1,2,3,4]\n",
        "list2=[\"A\",\"B\",\"C\"]\n",
        "list3=[1,\"Hello\"]"
      ],
      "execution_count": null,
      "outputs": []
    },
    {
      "cell_type": "code",
      "metadata": {
        "colab": {
          "base_uri": "https://localhost:8080/"
        },
        "id": "UXCVuv5u73u8",
        "outputId": "82733458-5d27-4750-bc94-7b720d729e34"
      },
      "source": [
        "\n",
        "list1[2]"
      ],
      "execution_count": null,
      "outputs": [
        {
          "output_type": "execute_result",
          "data": {
            "text/plain": [
              "3"
            ]
          },
          "metadata": {},
          "execution_count": 17
        }
      ]
    },
    {
      "cell_type": "code",
      "metadata": {
        "colab": {
          "base_uri": "https://localhost:8080/"
        },
        "id": "v7ys2PYY8JY4",
        "outputId": "841f8018-2796-4b52-a6c3-7bdfd486845d"
      },
      "source": [
        "\n",
        "x=5\n",
        "y=x\n",
        "x=7\n",
        "print(x,y)"
      ],
      "execution_count": null,
      "outputs": [
        {
          "output_type": "stream",
          "name": "stdout",
          "text": [
            "7 5\n"
          ]
        }
      ]
    },
    {
      "cell_type": "code",
      "metadata": {
        "colab": {
          "base_uri": "https://localhost:8080/"
        },
        "id": "PMfOlzGx8JUv",
        "outputId": "dc1b1046-1721-494a-fec1-4d3eb8c8407f"
      },
      "source": [
        "\n",
        "lst1=[1,3,5,7]\n",
        "lst2=lst1\n",
        "lst1[2]=4\n",
        "print(lst1)\n",
        "print(lst2)"
      ],
      "execution_count": null,
      "outputs": [
        {
          "output_type": "stream",
          "name": "stdout",
          "text": [
            "[1, 3, 4, 7]\n",
            "[1, 3, 4, 7]\n"
          ]
        }
      ]
    },
    {
      "cell_type": "code",
      "metadata": {
        "id": "tOHV_LZT8gDD"
      },
      "source": [
        "def factorial(n):\n",
        "    if n<=0:\n",
        "        return(1)\n",
        "    else:\n",
        "        val=n*factorial(n-1)\n",
        "        return(val)"
      ],
      "execution_count": null,
      "outputs": []
    },
    {
      "cell_type": "code",
      "metadata": {
        "colab": {
          "base_uri": "https://localhost:8080/"
        },
        "id": "WwiN5nTK8iFF",
        "outputId": "47c1e7bb-7a36-4128-f00d-19a1acd181f9"
      },
      "source": [
        "\n",
        "factorial(4)"
      ],
      "execution_count": null,
      "outputs": [
        {
          "output_type": "execute_result",
          "data": {
            "text/plain": [
              "24"
            ]
          },
          "metadata": {},
          "execution_count": 21
        }
      ]
    },
    {
      "cell_type": "code",
      "metadata": {
        "colab": {
          "base_uri": "https://localhost:8080/"
        },
        "id": "rD3cvyiL8lqD",
        "outputId": "6beaf48f-9f68-4aa1-d5ae-cf4276f99bb6"
      },
      "source": [
        "factorial(0)\n",
        "\n"
      ],
      "execution_count": null,
      "outputs": [
        {
          "output_type": "execute_result",
          "data": {
            "text/plain": [
              "1"
            ]
          },
          "metadata": {},
          "execution_count": 22
        }
      ]
    },
    {
      "cell_type": "code",
      "metadata": {
        "colab": {
          "base_uri": "https://localhost:8080/"
        },
        "id": "ixjAVb9EgXcJ",
        "outputId": "d2c8ad8c-5858-4336-8131-7a1af022d28a"
      },
      "source": [
        "list1 = [1,2,3,'A']\n",
        "list2 = [1,2,3,'C']\n",
        "list1 is list2\n"
      ],
      "execution_count": null,
      "outputs": [
        {
          "output_type": "execute_result",
          "data": {
            "text/plain": [
              "False"
            ]
          },
          "metadata": {},
          "execution_count": 2
        }
      ]
    },
    {
      "cell_type": "code",
      "metadata": {
        "id": "IG8FZVCHrWpQ",
        "colab": {
          "base_uri": "https://localhost:8080/"
        },
        "outputId": "c8ad4f2a-72dd-4070-ffe6-04b28bd2e1d6"
      },
      "source": [
        "vegetables = [\"Potato\",\"tomato\",\"onion\"]\n",
        "list=[]\n",
        "for i in vegetables:\n",
        "    if \"p\" in i:\n",
        "        list.append(i)\n",
        "print(list)     \n"
      ],
      "execution_count": null,
      "outputs": [
        {
          "output_type": "stream",
          "name": "stdout",
          "text": [
            "[]\n"
          ]
        }
      ]
    },
    {
      "cell_type": "code",
      "metadata": {
        "id": "UF-dVvtArWcG"
      },
      "source": [
        "newlist = [i for i in range(10)]"
      ],
      "execution_count": null,
      "outputs": []
    },
    {
      "cell_type": "code",
      "metadata": {
        "id": "HNJoQHmfrWJi",
        "colab": {
          "base_uri": "https://localhost:8080/"
        },
        "outputId": "24814559-e611-446b-de9b-52fbc493777f"
      },
      "source": [
        "newlist"
      ],
      "execution_count": null,
      "outputs": [
        {
          "output_type": "execute_result",
          "data": {
            "text/plain": [
              "[0, 1, 2, 3, 4, 5, 6, 7, 8, 9]"
            ]
          },
          "metadata": {},
          "execution_count": 7
        }
      ]
    },
    {
      "cell_type": "code",
      "metadata": {
        "colab": {
          "base_uri": "https://localhost:8080/"
        },
        "id": "5OGFp_MntZHc",
        "outputId": "8e8ccb45-04da-4bfd-d092-337349eb5696"
      },
      "source": [
        "newlist = [i for i in range(10) if i >4]\n",
        "\n",
        "newlist"
      ],
      "execution_count": null,
      "outputs": [
        {
          "output_type": "execute_result",
          "data": {
            "text/plain": [
              "[5, 6, 7, 8, 9]"
            ]
          },
          "metadata": {},
          "execution_count": 8
        }
      ]
    },
    {
      "cell_type": "code",
      "metadata": {
        "colab": {
          "base_uri": "https://localhost:8080/"
        },
        "id": "E28jlIEdtlY5",
        "outputId": "d1883879-36bb-4e90-e38c-063db9698272"
      },
      "source": [
        "newlist1=newlist.copy()\n",
        "newlist1"
      ],
      "execution_count": null,
      "outputs": [
        {
          "output_type": "execute_result",
          "data": {
            "text/plain": [
              "[5, 6, 7, 8, 9]"
            ]
          },
          "metadata": {},
          "execution_count": 11
        }
      ]
    },
    {
      "cell_type": "code",
      "metadata": {
        "id": "KqcGKH_Atpzs"
      },
      "source": [
        "tuple=(1,2,3)"
      ],
      "execution_count": null,
      "outputs": []
    },
    {
      "cell_type": "code",
      "metadata": {
        "colab": {
          "base_uri": "https://localhost:8080/"
        },
        "id": "1UovyJJptpxJ",
        "outputId": "8e3af351-2130-4452-ecbc-4e86aad16eb9"
      },
      "source": [
        "tuple"
      ],
      "execution_count": null,
      "outputs": [
        {
          "output_type": "execute_result",
          "data": {
            "text/plain": [
              "(1, 2, 3)"
            ]
          },
          "metadata": {},
          "execution_count": 14
        }
      ]
    },
    {
      "cell_type": "code",
      "metadata": {
        "colab": {
          "base_uri": "https://localhost:8080/"
        },
        "id": "AXFwdFDntpuB",
        "outputId": "5031526a-9a76-4ae1-9fca-e946fe6cb935"
      },
      "source": [
        "tuple[0]"
      ],
      "execution_count": null,
      "outputs": [
        {
          "output_type": "execute_result",
          "data": {
            "text/plain": [
              "1"
            ]
          },
          "metadata": {},
          "execution_count": 15
        }
      ]
    },
    {
      "cell_type": "code",
      "metadata": {
        "colab": {
          "base_uri": "https://localhost:8080/"
        },
        "id": "Qk9jvGzHtpry",
        "outputId": "3694aa8e-28a3-4538-985c-dfe615e0c8f5"
      },
      "source": [
        "if 2 in tuple:\n",
        "  print(\" 2 is present\")"
      ],
      "execution_count": null,
      "outputs": [
        {
          "output_type": "stream",
          "name": "stdout",
          "text": [
            " 2 is present\n"
          ]
        }
      ]
    },
    {
      "cell_type": "code",
      "metadata": {
        "colab": {
          "base_uri": "https://localhost:8080/"
        },
        "id": "Q1rM8U_7tpi5",
        "outputId": "36f6ec1d-6ea4-4d37-8af1-7492c7b6db77"
      },
      "source": [
        "tuple.count(33)  "
      ],
      "execution_count": null,
      "outputs": [
        {
          "output_type": "execute_result",
          "data": {
            "text/plain": [
              "0"
            ]
          },
          "metadata": {},
          "execution_count": 19
        }
      ]
    },
    {
      "cell_type": "code",
      "metadata": {
        "id": "LtZ7e3Isy9yH"
      },
      "source": [
        "a={1,2,3,4,4}"
      ],
      "execution_count": null,
      "outputs": []
    },
    {
      "cell_type": "code",
      "metadata": {
        "colab": {
          "base_uri": "https://localhost:8080/"
        },
        "id": "AeJMy7Vny9uS",
        "outputId": "1aced465-6467-4add-83fc-2bb7fb760775"
      },
      "source": [
        "a"
      ],
      "execution_count": null,
      "outputs": [
        {
          "output_type": "execute_result",
          "data": {
            "text/plain": [
              "{1, 2, 3, 4}"
            ]
          },
          "metadata": {},
          "execution_count": 25
        }
      ]
    },
    {
      "cell_type": "code",
      "metadata": {
        "colab": {
          "base_uri": "https://localhost:8080/"
        },
        "id": "00-AXdSuy9qw",
        "outputId": "b93e8d7b-0dba-4c38-e20d-fd1be247da2b"
      },
      "source": [
        "set(a)"
      ],
      "execution_count": null,
      "outputs": [
        {
          "output_type": "execute_result",
          "data": {
            "text/plain": [
              "{1, 2, 3, 4}"
            ]
          },
          "metadata": {},
          "execution_count": 26
        }
      ]
    },
    {
      "cell_type": "code",
      "metadata": {
        "colab": {
          "base_uri": "https://localhost:8080/"
        },
        "id": "Au-5ro0hy9oA",
        "outputId": "75463701-bd8d-45f6-d47b-cfbd232d6417"
      },
      "source": [
        "type(a)"
      ],
      "execution_count": null,
      "outputs": [
        {
          "output_type": "execute_result",
          "data": {
            "text/plain": [
              "set"
            ]
          },
          "metadata": {},
          "execution_count": 27
        }
      ]
    },
    {
      "cell_type": "code",
      "metadata": {
        "colab": {
          "base_uri": "https://localhost:8080/"
        },
        "id": "7MxeO72dy9kX",
        "outputId": "08a06736-3e76-4f5c-e1c3-6840c5dd32fb"
      },
      "source": [
        "len(a)"
      ],
      "execution_count": null,
      "outputs": [
        {
          "output_type": "execute_result",
          "data": {
            "text/plain": [
              "4"
            ]
          },
          "metadata": {},
          "execution_count": 28
        }
      ]
    },
    {
      "cell_type": "code",
      "metadata": {
        "colab": {
          "base_uri": "https://localhost:8080/"
        },
        "id": "JCiSvsMWy9hh",
        "outputId": "853fcd35-f8cd-49e6-b1f8-98a6b437027f"
      },
      "source": [
        "def fun():\n",
        "  a=10\n",
        "  b=20\n",
        "  c=a+b\n",
        "  print(c)\n",
        "fun()"
      ],
      "execution_count": null,
      "outputs": [
        {
          "output_type": "stream",
          "name": "stdout",
          "text": [
            "30\n"
          ]
        }
      ]
    },
    {
      "cell_type": "code",
      "metadata": {
        "colab": {
          "base_uri": "https://localhost:8080/"
        },
        "id": "IB211xcWy9ei",
        "outputId": "72b9986c-47fd-4e7b-b443-422fca6c2460"
      },
      "source": [
        "def sum(a,b):\n",
        "  return a+b;\n",
        "a=int(input(\"Enter the value for a \"))\n",
        "b=int(input(\"Enter the value for b \"))\n",
        "\n",
        "print(\"Sum is \",sum(a,b))"
      ],
      "execution_count": null,
      "outputs": [
        {
          "output_type": "stream",
          "name": "stdout",
          "text": [
            "Enter the value for a 12\n",
            "Enter the value for b 12\n",
            "Sum is  24\n"
          ]
        }
      ]
    },
    {
      "cell_type": "code",
      "metadata": {
        "colab": {
          "base_uri": "https://localhost:8080/"
        },
        "id": "XM5t_ce9y9bQ",
        "outputId": "f83666c3-0675-4f59-df09-31ba3b7b98b3"
      },
      "source": [
        "def fun2(name,age=20):\n",
        "  print(\"name is \" ,name,\" age is \",age)\n",
        "\n",
        "fun2(name=\"rita\")"
      ],
      "execution_count": null,
      "outputs": [
        {
          "output_type": "stream",
          "name": "stdout",
          "text": [
            "name is  rita  age is  20\n"
          ]
        }
      ]
    },
    {
      "cell_type": "code",
      "metadata": {
        "colab": {
          "base_uri": "https://localhost:8080/"
        },
        "id": "w954Y3hdy9YY",
        "outputId": "9b96115e-5bda-4eb8-f6d4-1dc772f8dd8d"
      },
      "source": [
        "def fun3(name , message ):\n",
        "    print(\"sample:\" , name ,\"and \",message)\n",
        "fun3(name=\"rita\",message=\"gm\")    "
      ],
      "execution_count": null,
      "outputs": [
        {
          "output_type": "stream",
          "name": "stdout",
          "text": [
            "sample: rita and  gm\n"
          ]
        }
      ]
    },
    {
      "cell_type": "code",
      "metadata": {
        "colab": {
          "base_uri": "https://localhost:8080/"
        },
        "id": "qAy3VTVay9VP",
        "outputId": "26c2f662-fdbb-4a31-b702-91dbe1862ec6"
      },
      "source": [
        "def fruit(**fname):\n",
        "  print(fname)\n",
        "fruit(b=\"banana\")\n",
        "fruit(fruit1=\"mango\",fruit2=\"orange\")\n",
        "print(\"no fruits\")"
      ],
      "execution_count": null,
      "outputs": [
        {
          "output_type": "stream",
          "name": "stdout",
          "text": [
            "{'b': 'banana'}\n",
            "{'fruit1': 'mango', 'fruit2': 'orange'}\n",
            "no fruits\n"
          ]
        }
      ]
    },
    {
      "cell_type": "code",
      "metadata": {
        "colab": {
          "base_uri": "https://localhost:8080/"
        },
        "id": "j9TGrLdxy9SS",
        "outputId": "c9be70ab-09d0-441e-c1bc-01a3545a7715"
      },
      "source": [
        "a=30.334444\n",
        "abs(a)"
      ],
      "execution_count": null,
      "outputs": [
        {
          "output_type": "execute_result",
          "data": {
            "text/plain": [
              "30.334444"
            ]
          },
          "metadata": {},
          "execution_count": 43
        }
      ]
    },
    {
      "cell_type": "code",
      "metadata": {
        "colab": {
          "base_uri": "https://localhost:8080/"
        },
        "id": "l8anRqr6y9Oz",
        "outputId": "debacb4b-22d3-47dd-f84f-0e299a0f74e1"
      },
      "source": [
        "list1=[1,2,3,4,5]\n",
        "for i in list1:\n",
        "  print(i)\n"
      ],
      "execution_count": null,
      "outputs": [
        {
          "output_type": "stream",
          "name": "stdout",
          "text": [
            "1\n",
            "2\n",
            "3\n",
            "4\n",
            "5\n"
          ]
        }
      ]
    },
    {
      "cell_type": "code",
      "metadata": {
        "id": "suYD6TbFy9LX"
      },
      "source": [
        "iter_list=iter(list1)"
      ],
      "execution_count": null,
      "outputs": []
    },
    {
      "cell_type": "code",
      "metadata": {
        "colab": {
          "base_uri": "https://localhost:8080/"
        },
        "id": "d7-XyZHfy9IK",
        "outputId": "dcf41250-8cc3-4152-f1e2-7064512f2bd7"
      },
      "source": [
        "iter_list"
      ],
      "execution_count": null,
      "outputs": [
        {
          "output_type": "execute_result",
          "data": {
            "text/plain": [
              "<list_iterator at 0x7f85459d1a10>"
            ]
          },
          "metadata": {},
          "execution_count": 46
        }
      ]
    },
    {
      "cell_type": "code",
      "metadata": {
        "colab": {
          "base_uri": "https://localhost:8080/"
        },
        "id": "hVD7tMMty9FD",
        "outputId": "abf6473b-d6cd-492a-d095-5c1b217d8d8e"
      },
      "source": [
        "print(next(iter_list))"
      ],
      "execution_count": null,
      "outputs": [
        {
          "output_type": "stream",
          "name": "stdout",
          "text": [
            "1\n"
          ]
        }
      ]
    },
    {
      "cell_type": "code",
      "metadata": {
        "colab": {
          "base_uri": "https://localhost:8080/"
        },
        "id": "ixTdKoQ_y9BP",
        "outputId": "86095183-1c41-4010-fedf-6ea02ddb53cd"
      },
      "source": [
        "a=lambda x : x+20\n",
        "\n",
        "print(a)\n",
        "print(\"addition\",a(30))"
      ],
      "execution_count": null,
      "outputs": [
        {
          "output_type": "stream",
          "name": "stdout",
          "text": [
            "<function <lambda> at 0x7f85459ff8c0>\n",
            "addition 50\n"
          ]
        }
      ]
    },
    {
      "cell_type": "markdown",
      "metadata": {
        "id": "gtciAj6fF-Z8"
      },
      "source": [
        "Constructor"
      ]
    },
    {
      "cell_type": "code",
      "metadata": {
        "id": "O0lLe2oqy89u",
        "colab": {
          "base_uri": "https://localhost:8080/"
        },
        "outputId": "5aca3a98-d46f-4775-fb6a-69f9c7774a6f"
      },
      "source": [
        "class Employee:\n",
        "  def __init__(self,name,eid):\n",
        "    self.name=name\n",
        "    self.eid=eid\n",
        "  def display(self):\n",
        "    print(\"Employee name is \",self.name)\n",
        "    print(\"Employee id is \",self.eid)\n",
        "e1=Employee(\"pavan\",101)\n",
        "e1.display()"
      ],
      "execution_count": 2,
      "outputs": [
        {
          "output_type": "stream",
          "name": "stdout",
          "text": [
            "Employee name is  pavan\n",
            "Employee id is  101\n"
          ]
        }
      ]
    },
    {
      "cell_type": "code",
      "metadata": {
        "id": "6eSMdBe9y8xX",
        "colab": {
          "base_uri": "https://localhost:8080/"
        },
        "outputId": "cdbde686-2d16-47f1-a66c-51a21e558571"
      },
      "source": [
        "class class1:\n",
        "  def __init__(self):\n",
        "    print(\"constructor 1 is running\");\n",
        "  def __init__(self):\n",
        "    print(\"constructor 2 is running\");\n",
        "c1=class1()"
      ],
      "execution_count": 5,
      "outputs": [
        {
          "output_type": "stream",
          "name": "stdout",
          "text": [
            "constructor 2 is running\n"
          ]
        }
      ]
    },
    {
      "cell_type": "code",
      "metadata": {
        "colab": {
          "base_uri": "https://localhost:8080/",
          "height": 35
        },
        "id": "8ujJWwEFGEZo",
        "outputId": "d480049f-cf31-4b12-e497-fa10330c5832"
      },
      "source": [
        "class Employee1:\n",
        "  def __init__(self,name,eid,age):\n",
        "    self.name=name\n",
        "    self.eid=eid\n",
        "    self.age=age\n",
        "  \n",
        "e1=Employee1(\"shaima\",1001,23)\n",
        "#without using print function trying to get the name\n",
        "getattr(e1,'name')\n"
      ],
      "execution_count": 11,
      "outputs": [
        {
          "output_type": "execute_result",
          "data": {
            "application/vnd.google.colaboratory.intrinsic+json": {
              "type": "string"
            },
            "text/plain": [
              "'shaima'"
            ]
          },
          "metadata": {},
          "execution_count": 11
        }
      ]
    },
    {
      "cell_type": "markdown",
      "metadata": {
        "id": "qGoBV6m6Kw2E"
      },
      "source": [
        "Built in functions in class"
      ]
    },
    {
      "cell_type": "code",
      "metadata": {
        "colab": {
          "base_uri": "https://localhost:8080/"
        },
        "id": "K_KXgpzzGEVC",
        "outputId": "6815e5ad-5bd3-4aa8-ed6f-31b503a36f34"
      },
      "source": [
        "getattr(e1,'age')"
      ],
      "execution_count": 9,
      "outputs": [
        {
          "output_type": "execute_result",
          "data": {
            "text/plain": [
              "23"
            ]
          },
          "metadata": {},
          "execution_count": 9
        }
      ]
    },
    {
      "cell_type": "code",
      "metadata": {
        "id": "GwgHusXVGERM"
      },
      "source": [
        "setattr(e1,'age',44)\n",
        "#to set or chnage the value of age and to run the output we need to run getattr"
      ],
      "execution_count": 12,
      "outputs": []
    },
    {
      "cell_type": "code",
      "metadata": {
        "id": "Myfh5f3LUA_M",
        "colab": {
          "base_uri": "https://localhost:8080/"
        },
        "outputId": "c8eb7d5a-603d-42dc-a029-395ebd0b3f4d"
      },
      "source": [
        "getattr(e1,'age')"
      ],
      "execution_count": 13,
      "outputs": [
        {
          "output_type": "execute_result",
          "data": {
            "text/plain": [
              "44"
            ]
          },
          "metadata": {},
          "execution_count": 13
        }
      ]
    },
    {
      "cell_type": "code",
      "metadata": {
        "colab": {
          "base_uri": "https://localhost:8080/"
        },
        "id": "_Q75q2QJ9j5K",
        "outputId": "d27f5d6e-5447-4309-8b01-d191da20e059"
      },
      "source": [
        "hasattr(e1,'eid')\n",
        "# searching if the particular argument is present"
      ],
      "execution_count": 14,
      "outputs": [
        {
          "output_type": "execute_result",
          "data": {
            "text/plain": [
              "True"
            ]
          },
          "metadata": {},
          "execution_count": 14
        }
      ]
    },
    {
      "cell_type": "code",
      "metadata": {
        "id": "-euY0urR9j3X"
      },
      "source": [
        "delattr(e1,'eid')"
      ],
      "execution_count": 15,
      "outputs": []
    },
    {
      "cell_type": "code",
      "metadata": {
        "colab": {
          "base_uri": "https://localhost:8080/"
        },
        "id": "86gIGKcS9jz9",
        "outputId": "eaa475fd-5fda-4fcf-f170-9976f0e01d90"
      },
      "source": [
        "hasattr(e1,'eid')"
      ],
      "execution_count": 16,
      "outputs": [
        {
          "output_type": "execute_result",
          "data": {
            "text/plain": [
              "False"
            ]
          },
          "metadata": {},
          "execution_count": 16
        }
      ]
    },
    {
      "cell_type": "markdown",
      "metadata": {
        "id": "ZMm1ZaXFMZbd"
      },
      "source": [
        "Inheritance"
      ]
    },
    {
      "cell_type": "code",
      "metadata": {
        "colab": {
          "base_uri": "https://localhost:8080/"
        },
        "id": "qI-204Fm9jwh",
        "outputId": "3bc5d8a7-4dbf-4baf-ef63-adaa459b3585"
      },
      "source": [
        "class person:\n",
        "  def __init__(self,fname,lname):\n",
        "    self.fname=fname\n",
        "    self.lname=lname\n",
        "  def display(self):\n",
        "    print(self.fname,self.lname)\n",
        "  \n",
        "p1=person(\"shaima\",\"kader\")\n",
        "p1.display()"
      ],
      "execution_count": 26,
      "outputs": [
        {
          "output_type": "stream",
          "name": "stdout",
          "text": [
            "shaima kader\n"
          ]
        }
      ]
    },
    {
      "cell_type": "code",
      "metadata": {
        "id": "G71s4jqDUA6D"
      },
      "source": [
        "class person1_inheritance(person):\n",
        "  def __init__(self,fname,lname,joining_year):\n",
        "    super().__init__(fname,lname)\n",
        "    self.joining_year=joining_year\n",
        "  def dispaly(self):\n",
        "    print(self.fname,self.lname,self.joining_year)\n"
      ],
      "execution_count": 29,
      "outputs": []
    },
    {
      "cell_type": "code",
      "metadata": {
        "colab": {
          "base_uri": "https://localhost:8080/"
        },
        "id": "99GS-8SEQotC",
        "outputId": "f914b12f-b4be-4ed0-c579-4cc5b4136343"
      },
      "source": [
        "p2=person1_inheritance(\"shaima\",\"kadar\",2021)\n",
        "p2.display()"
      ],
      "execution_count": 31,
      "outputs": [
        {
          "output_type": "stream",
          "name": "stdout",
          "text": [
            "shaima kadar\n"
          ]
        }
      ]
    },
    {
      "cell_type": "code",
      "metadata": {
        "id": "EG-U921RUA3Q",
        "colab": {
          "base_uri": "https://localhost:8080/"
        },
        "outputId": "a931caf6-36f6-46d1-f1c1-54e10cabab21"
      },
      "source": [
        "p2=person1_inheritance(\"sonali\",\"shetty\",2019)\n",
        "p2.display()"
      ],
      "execution_count": 33,
      "outputs": [
        {
          "output_type": "stream",
          "name": "stdout",
          "text": [
            "sonali shetty\n"
          ]
        }
      ]
    },
    {
      "cell_type": "code",
      "metadata": {
        "id": "REUjLU8tUA0u"
      },
      "source": [
        "class person:\n",
        "  def __init__(self,fname,lname):\n",
        "    self.fname=fname\n",
        "    self.lname=lname\n",
        "  def display(self):\n",
        "    print(self.fname,self.lname)\n",
        "  \n",
        "p1=person(\"shaima\",\"kader\")\n",
        "p1.display()"
      ],
      "execution_count": null,
      "outputs": []
    },
    {
      "cell_type": "code",
      "metadata": {
        "id": "_HFTGYiKUAxi"
      },
      "source": [
        "class person1(person):\n",
        "  pass"
      ],
      "execution_count": 35,
      "outputs": []
    },
    {
      "cell_type": "code",
      "metadata": {
        "colab": {
          "base_uri": "https://localhost:8080/"
        },
        "id": "_cID0YE_K2ng",
        "outputId": "5fa5372e-f8c7-4e56-da44-31e8655692f0"
      },
      "source": [
        "p1=person1(\"shaima\",\"kadar\")\n",
        "p1.display()"
      ],
      "execution_count": 36,
      "outputs": [
        {
          "output_type": "stream",
          "name": "stdout",
          "text": [
            "shaima kadar\n"
          ]
        }
      ]
    },
    {
      "cell_type": "code",
      "metadata": {
        "colab": {
          "base_uri": "https://localhost:8080/"
        },
        "id": "5xfdDO1aK2jN",
        "outputId": "3faf2481-1c0d-455f-8809-3c5e64c12bee"
      },
      "source": [
        "class Calculation1:  \n",
        "    def Summation(self,a,b):  \n",
        "        return a+b;  \n",
        "class Calculation2:  \n",
        "    def Multiplication(self,a,b):  \n",
        "        return a*b;  \n",
        "class Derived(Calculation1,Calculation2):  \n",
        "    def Divide(self,a,b):  \n",
        "        return a/b;  \n",
        "d = Derived()  \n",
        "print(d.Summation(1,2))  \n",
        "print(d.Multiplication(1,2))  \n",
        "print(d.Divide(1,2))  "
      ],
      "execution_count": 44,
      "outputs": [
        {
          "output_type": "stream",
          "name": "stdout",
          "text": [
            "3\n",
            "2\n",
            "0.5\n"
          ]
        }
      ]
    },
    {
      "cell_type": "markdown",
      "metadata": {
        "id": "iIdUfZHt0sgp"
      },
      "source": [
        "multiple inheritance"
      ]
    },
    {
      "cell_type": "code",
      "metadata": {
        "colab": {
          "base_uri": "https://localhost:8080/"
        },
        "id": "VUCEGn28K2gM",
        "outputId": "08674e26-e743-4cc3-b1d1-78c40b959730"
      },
      "source": [
        "\n",
        "class Cars:  \n",
        "    \n",
        "    def __init__(self, CarName, CarModel):  \n",
        "        self.name = CarName  \n",
        "        self.model = CarModel\n",
        "  \n",
        "    def showName(self):  \n",
        "        print(self.name)  \n",
        "  \n",
        "    def showModel(self):  \n",
        "        print(self.Model)    \n",
        "\n",
        "class Ids: \n",
        "    def __init__(self, CarId):  \n",
        "        self.CarId = CarId  \n",
        "  \n",
        "    def getId(self):  \n",
        "        return self.CarId  \n",
        "  \n",
        "  \n",
        "class Main(Cars, Ids):\n",
        "    def __init__(self, name, model, id):  \n",
        "        Cars.__init__(self, name, model)  \n",
        "        Ids.__init__(self, id)  \n",
        "  \n",
        "  \n",
        "\n",
        "Main1 = Main('Swift', 500, '100')  \n",
        "Main1.showName()  \n",
        "print(Main1.getId())  \n"
      ],
      "execution_count": 46,
      "outputs": [
        {
          "output_type": "stream",
          "name": "stdout",
          "text": [
            "Swift\n",
            "100\n"
          ]
        }
      ]
    },
    {
      "cell_type": "markdown",
      "metadata": {
        "id": "GddJwc_T0wtS"
      },
      "source": [
        "Multi - level inheritance"
      ]
    },
    {
      "cell_type": "code",
      "metadata": {
        "colab": {
          "base_uri": "https://localhost:8080/"
        },
        "id": "CDruJCQaK2b_",
        "outputId": "985a3cd4-7e91-451a-d40c-5d829bac4f28"
      },
      "source": [
        "class animal:\n",
        "  def speak(self):\n",
        "    print(\"animal speaking\")\n",
        "class dog(animal):\n",
        "  def bark(self):\n",
        "    print(\"dog barking\")\n",
        "class puppy(dog):\n",
        "  def eat(self):\n",
        "    print(\"eating\")\n",
        "p=puppy()\n",
        "p.speak()\n",
        "p.bark()\n",
        "p.eat()"
      ],
      "execution_count": 47,
      "outputs": [
        {
          "output_type": "stream",
          "name": "stdout",
          "text": [
            "animal speaking\n",
            "dog barking\n",
            "eating\n"
          ]
        }
      ]
    },
    {
      "cell_type": "code",
      "metadata": {
        "id": "cAGdo0PoK2YT"
      },
      "source": [
        ""
      ],
      "execution_count": null,
      "outputs": []
    },
    {
      "cell_type": "code",
      "metadata": {
        "id": "rrW1EugI01Qa"
      },
      "source": [
        ""
      ],
      "execution_count": null,
      "outputs": []
    },
    {
      "cell_type": "code",
      "metadata": {
        "id": "Wnjfn2qR01NL"
      },
      "source": [
        ""
      ],
      "execution_count": null,
      "outputs": []
    },
    {
      "cell_type": "code",
      "metadata": {
        "id": "ryoyQ0rx01Jo"
      },
      "source": [
        ""
      ],
      "execution_count": null,
      "outputs": []
    },
    {
      "cell_type": "code",
      "metadata": {
        "id": "AThCCbbA01GW"
      },
      "source": [
        ""
      ],
      "execution_count": null,
      "outputs": []
    },
    {
      "cell_type": "code",
      "metadata": {
        "id": "O2jFCzID01EZ"
      },
      "source": [
        ""
      ],
      "execution_count": null,
      "outputs": []
    },
    {
      "cell_type": "code",
      "metadata": {
        "id": "BFFZOOHH01Az"
      },
      "source": [
        ""
      ],
      "execution_count": null,
      "outputs": []
    },
    {
      "cell_type": "code",
      "metadata": {
        "id": "zKn-tqVi009q"
      },
      "source": [
        ""
      ],
      "execution_count": null,
      "outputs": []
    },
    {
      "cell_type": "code",
      "metadata": {
        "id": "0is9IAq00062"
      },
      "source": [
        ""
      ],
      "execution_count": null,
      "outputs": []
    }
  ]
}