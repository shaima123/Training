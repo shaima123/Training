{
  "nbformat": 4,
  "nbformat_minor": 0,
  "metadata": {
    "colab": {
      "name": "PythonAssignmentPractice.ipynb",
      "provenance": [],
      "collapsed_sections": []
    },
    "kernelspec": {
      "name": "python3",
      "display_name": "Python 3"
    },
    "language_info": {
      "name": "python"
    }
  },
  "cells": [
    {
      "cell_type": "code",
      "metadata": {
        "colab": {
          "base_uri": "https://localhost:8080/"
        },
        "id": "STEtBx8WStKl",
        "outputId": "e89177fa-7db9-4bca-f18d-9dcee43e867c"
      },
      "source": [
        "n=int(input(\"Enter the number:\"))\n",
        "temp=n\n",
        "rev=0\n",
        "while(n>0):\n",
        "    rem=n%10\n",
        "    rev=rev*10+rem\n",
        "    n=n//10\n",
        "if(temp==rev):\n",
        "    print(\"The number is a palindrome!\")\n",
        "else:\n",
        "    print(\"The number isn't a palindrome!\")"
      ],
      "execution_count": 2,
      "outputs": [
        {
          "output_type": "stream",
          "name": "stdout",
          "text": [
            "Enter the number:101\n",
            "The number is a palindrome!\n"
          ]
        }
      ]
    },
    {
      "cell_type": "code",
      "metadata": {
        "colab": {
          "base_uri": "https://localhost:8080/"
        },
        "id": "Ntu1EKdhS0ur",
        "outputId": "d0f43c6d-bfc3-421c-ce74-b229b678e991"
      },
      "source": [
        " \n",
        "def fibonacci(n):\n",
        "    a = 0\n",
        "    b = 1\n",
        "     \n",
        "    if n < 0:\n",
        "        print(\"Incorrect input\")\n",
        "         \n",
        "    elif n == 0:\n",
        "        return 0\n",
        "       \n",
        "    elif n == 1:\n",
        "        return b\n",
        "    else:\n",
        "        for i in range(1, n):\n",
        "            c = a + b\n",
        "            a = b\n",
        "            b = c\n",
        "        return b\n",
        " \n",
        "\n",
        "print(fibonacci(3))"
      ],
      "execution_count": 4,
      "outputs": [
        {
          "output_type": "stream",
          "name": "stdout",
          "text": [
            "2\n"
          ]
        }
      ]
    },
    {
      "cell_type": "code",
      "metadata": {
        "colab": {
          "base_uri": "https://localhost:8080/"
        },
        "id": "zsx51xyvS0sT",
        "outputId": "07f9c04e-d8db-44b2-f0af-206561ee9487"
      },
      "source": [
        "def sumofAP(a, n, d):\n",
        "    total = (n * (2 * a + (n - 1) * d)) / 2\n",
        "    return total\n",
        "\n",
        "a = int(input(\"Please Enter First Number  : \"))\n",
        "n = int(input(\"Please Enter the Total Numbers in this A.P Series: \"))\n",
        "d = int(input(\"Please Enter the value for d: \"))\n",
        "\n",
        "total = sumofAP(a, n, d)\n",
        "print(\"The Sum of Arithmetic Progression Series = \" , total)"
      ],
      "execution_count": 6,
      "outputs": [
        {
          "output_type": "stream",
          "name": "stdout",
          "text": [
            "Please Enter First Number  : 1\n",
            "Please Enter the Total Numbers in this A.P Series: 2\n",
            "Please Enter the value for d: 2\n",
            "The Sum of Arithmetic Progression Series =  4.0\n"
          ]
        }
      ]
    },
    {
      "cell_type": "code",
      "metadata": {
        "colab": {
          "base_uri": "https://localhost:8080/"
        },
        "id": "P77jStDSS0qQ",
        "outputId": "0b493f22-50b5-4419-b246-136628c009fc"
      },
      "source": [
        "l1 = [\"Apple \", \"ORange\", \"papaya\", \"grapes\", \"pineapple\"]\n",
        "\n",
        "l2 = []\n",
        "\n",
        "if len(l2):\n",
        "    print(\"list is not empty\")\n",
        "else:\n",
        "    print(\"list is empty\")"
      ],
      "execution_count": 7,
      "outputs": [
        {
          "output_type": "stream",
          "name": "stdout",
          "text": [
            "list is empty\n"
          ]
        }
      ]
    },
    {
      "cell_type": "code",
      "metadata": {
        "colab": {
          "base_uri": "https://localhost:8080/"
        },
        "id": "1gNaTW-OS0nx",
        "outputId": "6f65368c-e476-402c-9a58-2962cd7d9ebd"
      },
      "source": [
        "l1 = [\"Apple \", \"ORange\", \"papaya\", \"grapes\", \"pineapple\"]\n",
        "\n",
        "l2 = []\n",
        "\n",
        "if len(l1):\n",
        "    print(\"list is not empty\")\n",
        "else:\n",
        "    print(\"list is empty\")"
      ],
      "execution_count": 9,
      "outputs": [
        {
          "output_type": "stream",
          "name": "stdout",
          "text": [
            "list is not empty\n"
          ]
        }
      ]
    },
    {
      "cell_type": "code",
      "metadata": {
        "colab": {
          "base_uri": "https://localhost:8080/"
        },
        "id": "lCLV4XJhS0lU",
        "outputId": "635b04d7-736f-4497-ed0a-e6853eb160c8"
      },
      "source": [
        "  \n",
        "arr = [1, 2, 3, 4, 5];     \n",
        "print(\"Original array: \");    \n",
        "for i in range(0, len(arr)):    \n",
        "    print(arr[i])    \n",
        "print(\"Array in reverse order: \");    \n",
        " \n",
        "for i in range(len(arr)-1, -1, -1):     \n",
        "    print(arr[i])     "
      ],
      "execution_count": 12,
      "outputs": [
        {
          "output_type": "stream",
          "name": "stdout",
          "text": [
            "Original array: \n",
            "1\n",
            "2\n",
            "3\n",
            "4\n",
            "5\n",
            "Array in reverse order: \n",
            "5\n",
            "4\n",
            "3\n",
            "2\n",
            "1\n"
          ]
        }
      ]
    },
    {
      "cell_type": "code",
      "metadata": {
        "colab": {
          "base_uri": "https://localhost:8080/"
        },
        "id": "VUxm9p9eS0il",
        "outputId": "f2515ab0-ce76-442f-d67b-aab3cb7d512e"
      },
      "source": [
        "len(arr)"
      ],
      "execution_count": 11,
      "outputs": [
        {
          "output_type": "execute_result",
          "data": {
            "text/plain": [
              "5"
            ]
          },
          "metadata": {},
          "execution_count": 11
        }
      ]
    },
    {
      "cell_type": "code",
      "metadata": {
        "colab": {
          "base_uri": "https://localhost:8080/"
        },
        "id": "PXhHqEPwaoVx",
        "outputId": "fbf86c3d-34ff-4d15-e9e3-1988124b29f2"
      },
      "source": [
        "def add(n1, n2):\n",
        "    return n1+n2\n",
        " \n",
        " \n",
        "\n",
        "def minus(n1, n2): \n",
        "    return n1 - n2\n",
        " \n",
        "\n",
        "def multiply(n1, n2):  \n",
        "    return n1 * n2\n",
        " \n",
        "\n",
        "def divide(n1, n2):\n",
        "    return n1 / n2\n",
        "numb1= int(input(\"Enter First number :\"))\n",
        "numb2 = int(input(\"Enter Second number :\"))\n",
        "\n",
        "print(num1,\"+\" ,num2,\"=\", add(num1,num2))\n",
        "\n",
        "print(num1,\"-\" ,num2,\"=\", minus(num1, num2))\n",
        "\n",
        "print(num1,\"*\" ,num2,\"=\",multiply(num1, num2))\n",
        "\n",
        "print(num1,\"/\", num2,\"=\",divide(num1, num2))"
      ],
      "execution_count": 13,
      "outputs": [
        {
          "output_type": "stream",
          "name": "stdout",
          "text": [
            "Enter First number :10\n",
            "Enter Second number :10\n",
            "10 + 10 = 20\n",
            "10 - 10 = 0\n",
            "10 * 10 = 100\n",
            "10 / 10 = 1.0\n"
          ]
        }
      ]
    }
  ]
}